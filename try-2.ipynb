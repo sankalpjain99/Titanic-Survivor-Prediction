{
 "cells": [
  {
   "cell_type": "code",
   "execution_count": 1,
   "metadata": {
    "_cell_guid": "b1076dfc-b9ad-4769-8c92-a6c4dae69d19",
    "_uuid": "8f2839f25d086af736a60e9eeb907d3b93b6e0e5"
   },
   "outputs": [
    {
     "name": "stdout",
     "output_type": "stream",
     "text": [
      "['gender_submission.csv', 'test.csv', 'train.csv']\n"
     ]
    }
   ],
   "source": [
    "# This Python 3 environment comes with many helpful analytics libraries installed\n",
    "# It is defined by the kaggle/python docker image: https://github.com/kaggle/docker-python\n",
    "# For example, here's several helpful packages to load in \n",
    "import sys\n",
    "import numpy as np # linear algebra\n",
    "import pandas as pd # data processing, CSV file I/O (e.g. pd.read_csv)\n",
    "import matplotlib.pyplot as plt\n",
    "import sklearn \n",
    "from sklearn.ensemble import RandomForestClassifier\n",
    "from sklearn.model_selection import train_test_split\n",
    "from sklearn.model_selection import GridSearchCV\n",
    "import seaborn as sns\n",
    "\n",
    "# Input data files are available in the \"../input/\" directory.\n",
    "# For example, running this (by clicking run or pressing Shift+Enter) will list the files in the input directory\n",
    "\n",
    "import os\n",
    "print(os.listdir(\"../input\"))\n",
    "\n",
    "# Any results you write to the current directory are saved as output."
   ]
  },
  {
   "cell_type": "code",
   "execution_count": 2,
   "metadata": {
    "_cell_guid": "79c7e3d0-c299-4dcb-8224-4455121ee9b0",
    "_uuid": "d629ff2d2480ee46fbb7e2d37f6b5fab8052498a",
    "scrolled": true
   },
   "outputs": [
    {
     "name": "stdout",
     "output_type": "stream",
     "text": [
      "['Survived', 'Pclass', 'Sex', 'Age', 'SibSp', 'Parch', 'Fare', 'Embarked', 'FamMembers', 'isAlone', 'Title']\n"
     ]
    },
    {
     "name": "stderr",
     "output_type": "stream",
     "text": [
      "/opt/conda/lib/python3.6/site-packages/sklearn/model_selection/_split.py:2053: FutureWarning: You should specify a value for 'cv' instead of relying on the default value. The default value will change from 3 to 5 in version 0.22.\n",
      "  warnings.warn(CV_WARNING, FutureWarning)\n"
     ]
    },
    {
     "data": {
      "text/plain": [
       "0.8161434977578476"
      ]
     },
     "execution_count": 2,
     "metadata": {},
     "output_type": "execute_result"
    }
   ],
   "source": [
    "train = pd.read_csv('../input/train.csv')\n",
    "test = pd.read_csv('../input/test.csv')\n",
    "#print(train.info())\n",
    "#print(train.head())\n",
    "\n",
    "#print('Train :')\n",
    "#print(train.isnull().sum())\n",
    "#print('\\nTest :')\n",
    "#print(test.isnull().sum())\n",
    "dataset = [train,test]\n",
    "\n",
    "#DATA CLEANING\n",
    "for i in dataset:    \n",
    "    i['Age'].fillna(i['Age'].median(),inplace=True)\n",
    "    i['Fare'].fillna(i['Fare'].median(),inplace=True)\n",
    "    i['Embarked'].fillna(i['Embarked'].mode()[0],inplace=True)\n",
    "train.drop(['Ticket','Cabin'],axis=1, inplace=True)\n",
    "test.drop(['Ticket','Cabin'],axis=1, inplace=True)\n",
    "#print(test.isnull().sum())\n",
    "\n",
    "#FEATURE ENGINEERING\n",
    "def extract_title(x):\n",
    "        return x.split(', ')[1].split('.')[0]\n",
    "def imp(x):\n",
    "    if imp_title[x]<10:\n",
    "        return 1\n",
    "    else:\n",
    "        return 0\n",
    "def imp_t(x):\n",
    "    if imp_title_t[x]<10:\n",
    "        return 1\n",
    "    else:\n",
    "        return 0    \n",
    "def gender(sex):\n",
    "    if sex=='male':\n",
    "        return 1\n",
    "    elif sex=='female':\n",
    "        return 0\n",
    "def port(emb):\n",
    "    if emb=='C':\n",
    "        return 1\n",
    "    elif emb=='Q':\n",
    "        return 2\n",
    "    elif emb=='S':\n",
    "        return 3\n",
    "def titles(x):\n",
    "    if x=='Mr':\n",
    "        return 1\n",
    "    elif x=='Mrs':\n",
    "        return 2\n",
    "    elif x=='Miss':\n",
    "        return 3\n",
    "    elif x=='Master':\n",
    "        return 4\n",
    "    elif x=='Misc':\n",
    "        return 5\n",
    "for i in dataset:\n",
    "    i['FamMembers'] = i['SibSp'] + i['Parch'] + 1\n",
    "    i['isAlone'] = i.apply(lambda x:0 if x['FamMembers']>1 else 1,axis=1)\n",
    "    i['Title'] = i.apply(lambda x:extract_title(x['Name']),axis=1)\n",
    "    i['Sex'] = i.apply(lambda x : gender(x['Sex']),axis=1)\n",
    "    i['Embarked'] = i.apply(lambda x:port(x['Embarked']),axis=1)\n",
    "imp_title = train['Title'].value_counts().to_dict()\n",
    "imp_title_t = test['Title'].value_counts().to_dict()\n",
    "train['Title'] = train['Title'].apply(lambda x:'Misc' if imp(x)==1 else x)\n",
    "test['Title'] = test['Title'].apply(lambda x:'Misc' if imp_t(x)==1 else x)\n",
    "for i in dataset:\n",
    "    i[\"Title\"] = i.apply(lambda x: titles(x['Title']),axis=1)\n",
    "train.drop('Name',axis=1,inplace=True)\n",
    "test.drop('Name',axis=1,inplace=True)\n",
    "train.set_index('PassengerId',inplace=True)\n",
    "test.set_index('PassengerId',inplace=True)\n",
    "y = train['Survived']\n",
    "print(list(train))\n",
    "x_f = ['Pclass', 'Sex', 'Age', 'SibSp', 'Parch', 'Fare', 'Embarked', 'FamMembers', 'isAlone', 'Title']\n",
    "x = train[x_f]\n",
    "X_train,X_test,y_train,y_test = train_test_split(x,y,random_state=0)\n",
    "\n",
    "clf = RandomForestClassifier()\n",
    "grid_values = param_grid = { \n",
    "    'criterion' :['gini'],\n",
    "    'max_depth': [100],\n",
    "    'max_features': [3],\n",
    "    'min_samples_leaf': [5],\n",
    "    'min_samples_split': [12],\n",
    "    'n_estimators': [100]\n",
    "}\n",
    "grid_clf = GridSearchCV(clf, param_grid = grid_values)\n",
    "grid_clf.fit(X_train,y_train)\n",
    "grid_clf.score(X_test,y_test)"
   ]
  },
  {
   "cell_type": "code",
   "execution_count": 3,
   "metadata": {
    "_uuid": "2ad537caf3773b5408f3865648bf77539f5b2f28"
   },
   "outputs": [],
   "source": [
    "final_test = test.copy()\n",
    "final_survived = grid_clf.predict(final_test)\n",
    "answer = pd.DataFrame({'PassengerID':test.index,'Survived':final_survived})\n",
    "answer.to_csv('try_2_titanic.csv',index=False)\n",
    "\n"
   ]
  },
  {
   "cell_type": "code",
   "execution_count": 4,
   "metadata": {
    "_uuid": "af8dde617047b1248cddd4da190651ba1016ddcf"
   },
   "outputs": [],
   "source": []
  }
 ],
 "metadata": {
  "kernelspec": {
   "display_name": "Python 3",
   "language": "python",
   "name": "python3"
  }
 },
 "nbformat": 4,
 "nbformat_minor": 1
}
